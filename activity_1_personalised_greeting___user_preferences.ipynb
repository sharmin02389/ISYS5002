{
  "cells": [
    {
      "cell_type": "markdown",
      "metadata": {
        "id": "view-in-github",
        "colab_type": "text"
      },
      "source": [
        "<a href=\"https://colab.research.google.com/github/sharmin02389/ISYS5002/blob/main/activity_1_personalised_greeting___user_preferences.ipynb\" target=\"_parent\"><img src=\"https://colab.research.google.com/assets/colab-badge.svg\" alt=\"Open In Colab\"/></a>"
      ]
    },
    {
      "cell_type": "markdown",
      "metadata": {
        "id": "UqWh27PVUTXd"
      },
      "source": [
        "# Activity 1: Personalised Greeting & User Preferences\n",
        "\n",
        "Welcome to your first hands-on project in Python! In this activity, you will create a program that collects user information, processes it, and displays a personalised message. Along the way, you'll find hints, tips, and even AI suggestions to help you think like a programmer and problem-solver."
      ]
    },
    {
      "cell_type": "raw",
      "metadata": {
        "id": "0noqds80UTXp"
      },
      "source": [
        "---\n",
        "\n",
        "## Project Goal\n",
        "\n",
        "Your mission is to build a simple interactive program that:\n",
        "- Asks the user for their name and a couple of preferences (like their favorite colour and food).\n",
        "- Stores their responses in variables.\n",
        "- Outputs a custom message that uses these inputs.\n",
        "\n",
        "**Tip:** Good variable names help keep your code clear and your intentions obvious.\n",
        "\n",
        "---"
      ]
    },
    {
      "cell_type": "markdown",
      "metadata": {
        "id": "blROYXDwUTXq"
      },
      "source": [
        "## Instructions\n",
        "\n",
        "1. **Collect User Input:**  \n",
        "  Use the `input()` function to ask for details such as the user's name, favourite colour, and favourite food.  \n",
        "   \n",
        "  > **Hint:** Think of `input()` as a way to start a conversation with your computer.\n",
        "\n",
        "2. **Store Responses in Variables:**  \n",
        "  Assign each input value to a variable.  \n",
        "  \n",
        "  > **Tip:** Choose descriptive names for your variables (e.g., `user_name`, `fav_colour`).\n",
        "\n",
        "3. **Output a Summary Message:**  \n",
        "  Use the `print()` function to display a personalized greeting that includes all the user's inputs.\n",
        "\n",
        "4. **Extend and Experiment:**  \n",
        "  Add extra prompts like asking for a favourite hobby or a spirit animal. Experiment with string manipulation methods and see what fun outputs you can create.\n",
        "\n",
        "5. **AI Assistance:**  \n",
        "  If you get stuck, consider asking your AI tutor for hints on string operations or debugging tips.  \n",
        "   \n",
        "  > **AI Tip:** You can say, “How do I combine strings in Python?” for additional guidance."
      ]
    },
    {
      "cell_type": "markdown",
      "metadata": {
        "id": "mtcLfvCLUTXq"
      },
      "source": [
        "---\n",
        "\n",
        "## Step-by-Step Guide\n",
        "\n",
        "### Step 1: Collecting User Input\n",
        "\n",
        "Below is a code snippet to capture user input. Feel free to adjust the prompts as needed."
      ]
    },
    {
      "cell_type": "code",
      "execution_count": null,
      "metadata": {
        "vscode": {
          "languageId": "python"
        },
        "id": "HUQtFjQQUTXq"
      },
      "outputs": [],
      "source": [
        "# Collect basic user inputs\n",
        "user_name = input(\"What is your name? \")\n",
        "fav_colour = input(\"What is your favourite colour? \")\n",
        "fav_food = input(\"What is your favourite food? \")\n",
        "\n",
        "# Display the captured inputs\n",
        "print(\"Name:\", user_name)\n",
        "print(\"Favourite Colour:\", fav_colour)\n",
        "print(\"Favourite Food:\", fav_food)"
      ]
    },
    {
      "cell_type": "raw",
      "metadata": {
        "id": "nZENXVWyUTXr"
      },
      "source": [
        "> **Concept**: When using `input()`, the string between the quoptes is know as a prompt\n",
        "\n",
        "> **Tip**  When using `print()`, you can separate multiple items with a comma. This tells Python to output each item with a space between them automatically.\n",
        "\n",
        "> **Advanced Concept**  Arguments are passed to functions (like `print()`).  These *arguments* are the values you provide between the parentheses. In this example, each comma-separated value is an argument, and the `print()` function prints them in order.\n",
        "\n",
        "> **Hint:** After running this cell, check that your inputs are stored correctly by printing the variables.\n",
        "\n",
        "---"
      ]
    },
    {
      "cell_type": "markdown",
      "metadata": {
        "id": "5gymyWwIUTXr"
      },
      "source": [
        "### Step 2: Outputting a Personalized Summary\n",
        "\n",
        "Now combine your inputs into a friendly greeting using string concatenation."
      ]
    },
    {
      "cell_type": "code",
      "execution_count": null,
      "metadata": {
        "vscode": {
          "languageId": "python"
        },
        "id": "KchT32mbUTXs"
      },
      "outputs": [],
      "source": [
        "# Output a summary message combining the inputs\n",
        "print(\"Hello, \" + user_name + \"! Your favourite colour is \" + fav_colour +\n",
        "      \" and you love \" + fav_food + \".\")"
      ]
    },
    {
      "cell_type": "markdown",
      "metadata": {
        "id": "xRGxj_epUTXs"
      },
      "source": [
        "> **Tip**  The `+` operator is used here to join, or \"concatenate,\" multiple strings together to build up your final message. Think of it as gluing pieces of text into one complete sentence.\n",
        "\n",
        "> **Advanced Concept:**  Using the `+` operator for strings lets you create new strings by combining literal text with variables. This is one of the fundamental ways to build messages dynamically in Python.\n",
        "\n",
        "> **Advanced Tip:** Experiment with different ways of joining strings – try using f-strings for cleaner code as you become more comfortable."
      ]
    },
    {
      "cell_type": "markdown",
      "metadata": {
        "id": "BMh7F-F1UTXs"
      },
      "source": [
        "---\n",
        "\n",
        "### Step 3: Your Turn – Extend the Program\n",
        "\n",
        "It’s time to add an extra input. For instance, ask the user for their favourite hobby and update your greeting message accordingly."
      ]
    },
    {
      "cell_type": "code",
      "execution_count": null,
      "metadata": {
        "vscode": {
          "languageId": "python"
        },
        "id": "0ZkQRJidUTXs"
      },
      "outputs": [],
      "source": [
        "# TODO: Ask the user for their favourite hobby and store it in a variable.\n",
        "# For example:\n",
        "# fav_hobby = input(\"What is your favourite hobby? \")\n",
        "\n",
        "# Then update the summary message to include the hobby.\n",
        "# For example:\n",
        "# print(\"Hello, \" + user_name + \"! Your favourite colour is \" + fav_colour +\n",
        "#       \", you love \" + fav_food + \", and your favourite hobby is \" + fav_hobby + \".\")"
      ]
    },
    {
      "cell_type": "raw",
      "metadata": {
        "id": "GnOVxQ1cUTXt"
      },
      "source": [
        "> **AI Tip:** If you’re not sure how to modify the print statement, ask your AI helper, “How do I update a print statement with more variables in Python?”\n",
        "\n",
        "---"
      ]
    },
    {
      "cell_type": "markdown",
      "metadata": {
        "id": "LcP_WcaJUTXt"
      },
      "source": [
        "## Experiment with input()\n",
        "\n",
        "Try a different twist by asking for something unique, like the user’s spirit animal. This is a fun way to practice with `input()`."
      ]
    },
    {
      "cell_type": "code",
      "execution_count": null,
      "metadata": {
        "vscode": {
          "languageId": "python"
        },
        "id": "fHhF5gg8UTXt"
      },
      "outputs": [],
      "source": [
        "spirit_animal = input(\"What's your spirit animal? \")\n",
        "print(\"Interesting choice! I wonder why a\", spirit_animal, \"resonates with you.\")"
      ]
    },
    {
      "cell_type": "markdown",
      "metadata": {
        "id": "vEVy76djUTXt"
      },
      "source": [
        "> **Hint:** Think about how different input types (like numbers or strings) can change your approach to programming."
      ]
    },
    {
      "cell_type": "markdown",
      "metadata": {
        "id": "s1yUSeoMUTXt"
      },
      "source": [
        "---\n",
        "\n",
        "## Simple String Manipulation\n",
        "\n",
        "Discover how to change the style of your text. The code below shows your name transformed to all uppercase letters."
      ]
    },
    {
      "cell_type": "code",
      "execution_count": null,
      "metadata": {
        "vscode": {
          "languageId": "python"
        },
        "id": "vKJMOVwwUTXt"
      },
      "outputs": [],
      "source": [
        "print(\"Your name in all caps is\", user_name.upper() + \"!\")"
      ]
    },
    {
      "cell_type": "raw",
      "metadata": {
        "id": "L0qogMOSUTXt"
      },
      "source": [
        "> **Tip:** String methods like `.upper()`, `.lower()`, and `.title()` are useful for standardizing text input.\n",
        "\n",
        "---"
      ]
    },
    {
      "cell_type": "markdown",
      "metadata": {
        "id": "YDIy4xzgUTXu"
      },
      "source": [
        "## Advanced Concept: Understanding Dot-Methods\n",
        "\n",
        "When you see a dot (.) following a variable in Python—like in `user_name.upper()`—you're using a method that belongs to that variable's type. In this example, `user_name` is a string, and `.upper()` is a method that converts all characters to uppercase.\n",
        "\n",
        "- **Dot-Methods Explained:**  \n",
        "  In Python, many data types have built-in functions (methods) that perform common tasks. When you type a dot after a variable, your IDE (Integrated Development Environment) can display a list of available methods. For instance, type `user_name.` and pause, and you'll see a drop-down list of string methods. This list gets filtered as you type more letters, helping you quickly find the method you need.\n",
        "\n",
        "- **IDE Autocomplete Tip:**  \n",
        "  If you're ever unsure which method to use, try typing a dot after your variable name. Your IDE’s autocomplete feature will suggest options along with a brief description. This is a great way to learn about what methods are available for strings and other objects before diving deeper into object-oriented programming later in the course.\n",
        "\n",
        "> **AI Tip:** Ask your AI tutor, “What are some common string methods in Python?” for more examples and explanations."
      ]
    },
    {
      "cell_type": "markdown",
      "metadata": {
        "id": "6bZvNb90UTXu"
      },
      "source": [
        "---\n",
        "\n",
        "## Mini-Challenges\n",
        "\n",
        "### Challenge 1: Multi-line Greeting  \n",
        "Modify your greeting message so it prints on two lines.  \n",
        "\n",
        "> *Hint:* Insert the newline character `\\n` in your string to start a new line."
      ]
    },
    {
      "cell_type": "code",
      "execution_count": null,
      "metadata": {
        "vscode": {
          "languageId": "python"
        },
        "id": "oSNjaUW1UTXu"
      },
      "outputs": [],
      "source": [
        "# TODO: Modify the greeting message to print on two separate lines.\n",
        "# For example, consider:\n",
        "# print(\"Hello, \" + user_name + \"!\\nYour favourite colour is \" + fav_colour +\n",
        "#       \" and you love \" + fav_food + \".\")"
      ]
    },
    {
      "cell_type": "raw",
      "metadata": {
        "id": "fRr0OysWUTXu"
      },
      "source": [
        "> **AI Tip:** If you need a refresher on escape sequences in Python, ask, “What are escape sequences in Python?”\n",
        "\n",
        "---"
      ]
    },
    {
      "cell_type": "markdown",
      "metadata": {
        "id": "kvkaPh9aUTXu"
      },
      "source": [
        "### Challenge 2: Age Calculator  \n",
        "Ask the user for their birth year and calculate their age for the current year.  \n",
        "*Hint:* You might need to import the `datetime` module to obtain the current year."
      ]
    },
    {
      "cell_type": "code",
      "execution_count": null,
      "metadata": {
        "vscode": {
          "languageId": "python"
        },
        "id": "1DYgy0yQUTXu"
      },
      "outputs": [],
      "source": [
        "# TODO: Ask the user for their birth year and calculate their age.\n",
        "# For example:\n",
        "# birth_year = int(input(\"What year were you born? \"))\n",
        "# import datetime\n",
        "# current_year = datetime.datetime.now().year\n",
        "# age = current_year - birth_year\n",
        "# print(\"You are\", age, \"years old!\")"
      ]
    },
    {
      "cell_type": "markdown",
      "metadata": {
        "id": "ImilsyI-UTXu"
      },
      "source": [
        "> **Tip:** Make sure to convert the input from a string to an integer using `int()` before doing arithmetic."
      ]
    },
    {
      "cell_type": "markdown",
      "metadata": {
        "id": "5TAY93NBUTXu"
      },
      "source": [
        "---\n",
        "\n",
        "## Optional Advanced: Interactive Input with ipywidgets\n",
        "\n",
        "This section provides a sneak peek into interactive programming techniques. Feel free to explore if you’re curious about more dynamic user interfaces. (Don't worry if this seems advanced—it's an optional bonus!)"
      ]
    },
    {
      "cell_type": "code",
      "execution_count": null,
      "metadata": {
        "vscode": {
          "languageId": "python"
        },
        "id": "TVTu3NQWUTXv"
      },
      "outputs": [],
      "source": [
        "# Optional Advanced: Using ipywidgets for interactive input\n",
        "# If needed, uncomment the next line to install ipywidgets in Colab\n",
        "# !pip install ipywidgets\n",
        "\n",
        "import ipywidgets as widgets\n",
        "from IPython.display import display\n",
        "\n",
        "def greet(user_name, fav_colour, fav_food):\n",
        "    greeting = f\"Hello, {user_name}! Your favourite colour is {fav_colour} and you love {fav_food}.\"\n",
        "    print(greeting)\n",
        "\n",
        "# Create interactive text widgets for input\n",
        "name_widget = widgets.Text(placeholder='Enter your name')\n",
        "colour_widget = widgets.Text(placeholder='Enter your favourite colour')\n",
        "food_widget = widgets.Text(placeholder='Enter your favourite food')\n",
        "\n",
        "ui = widgets.VBox([name_widget, colour_widget, food_widget])\n",
        "out = widgets.interactive_output(greet, {'user_name': name_widget, 'fav_colour': colour_widget, 'fav_food': food_widget})\n",
        "display(ui, out)"
      ]
    },
    {
      "cell_type": "raw",
      "metadata": {
        "id": "B9fh037PUTXv"
      },
      "source": [
        "> **AI Tip:** Use the interactive widgets as a way to see real-time feedback on your code. You can ask your AI tutor for more creative ideas on using ipywidgets.\n",
        "\n",
        "---"
      ]
    },
    {
      "cell_type": "markdown",
      "metadata": {
        "id": "BHrHI2J4UTXv"
      },
      "source": [
        "## Summary and Next Steps\n",
        "\n",
        "- **Experiment:**  \n",
        "  Play around with different prompts and string methods. For instance, try converting text to uppercase or adding another personal touch to your greeting.\n",
        "\n",
        "- **Mini-Challenges:**  \n",
        "  Work on the mini-challenges above to further hone your coding skills.\n",
        "\n",
        "- **Interactive Widgets (Optional):**  \n",
        "  Explore the ipywidgets section to learn about interactive programming. Ask your AI helper for extra resources if you're interested!\n",
        "\n",
        "Remember, programming is about exploring and learning from your experiments. If you get stuck, your Lecturer, Tutor and AI tutor are here to help.\n",
        "\n",
        "Happy coding!"
      ]
    }
  ],
  "metadata": {
    "kernelspec": {
      "display_name": "Python 3 (ipykernel)",
      "language": "python",
      "name": "python3"
    },
    "colab": {
      "provenance": [],
      "include_colab_link": true
    }
  },
  "nbformat": 4,
  "nbformat_minor": 0
}