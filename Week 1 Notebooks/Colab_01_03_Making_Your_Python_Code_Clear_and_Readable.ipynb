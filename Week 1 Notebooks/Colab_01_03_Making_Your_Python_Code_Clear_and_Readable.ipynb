{
  "cells": [
    {
      "cell_type": "markdown",
      "metadata": {
        "id": "view-in-github",
        "colab_type": "text"
      },
      "source": [
        "<a href=\"https://colab.research.google.com/github/sharmin02389/ISYS5002/blob/main/Week%201%20Notebooks/Colab_01_03_Making_Your_Python_Code_Clear_and_Readable.ipynb\" target=\"_parent\"><img src=\"https://colab.research.google.com/assets/colab-badge.svg\" alt=\"Open In Colab\"/></a>"
      ]
    },
    {
      "cell_type": "markdown",
      "metadata": {
        "id": "UIMGRXQBPbds"
      },
      "source": [
        "## Making Your Python Code Clear and Readable\n",
        "\n",
        "Welcome! 🎉\n",
        "\n",
        "When writing code, **how** you format your output is just as important as **what** you print. Imagine reading a book without spaces between paragraphs—it would be confusing, right? The same idea applies to programming!\n",
        "\n",
        "In this notebook, you'll learn how to:  \n",
        "\n",
        "- ✅ Add **blank lines** to make your output easier to read  \n",
        "- ✅ Print **multiple lines** using different techniques  \n",
        "- ✅ Use **comments** to explain your code (just like adding notes in a notebook!)\n",
        "\n",
        "💡 **Why does this matter?**  \n",
        "\n",
        "- Blank lines help **organise** your output.  \n",
        "- Comments help **explain** your code so that you (and others) can understand it later.  \n",
        "- Writing clear, readable code is a skill that **every great programmer** develops over time!\n",
        "\n",
        "Let's make your Python programs **clear, structured, and easy to read!** 🚀\n",
        "\n",
        "# AI as an assistant!\n",
        "\n",
        "Throughout this notebook, our aim isn’t simply to complete every exercise but to truly understand how the Python print() command works. Feel free to use AI as a tool to clarify concepts and support your learning, but remember that building a strong foundation in these basics is key. As tasks become more challenging, your intuitive grasp of the fundamentals will help you confidently interpret and apply AI suggestions.\n",
        "\n",
        "\n",
        "# Section 1: Skipping a Line in Code\n",
        "\n",
        "Skipping a line in the code without a print statement has no effect on the output. For example:\n",
        "\n",
        "```python\n",
        "print(\"Apple\")\n",
        "\n",
        "print(\"or Orange?\")\n",
        "```\n",
        "\n",
        "**Output:**\n",
        "```\n",
        "Apple\n",
        "or Orange?\n",
        "```\n",
        "\n",
        "What do you think is the result of running this code?  Have a guess and then run the cell.  Did the output match your expectations?"
      ]
    },
    {
      "cell_type": "code",
      "execution_count": 1,
      "metadata": {
        "vscode": {
          "languageId": "python"
        },
        "id": "X5QK3LOBPbdt",
        "outputId": "8fcb1555-b2ee-46c7-9ef2-a47d2a68e59c",
        "colab": {
          "base_uri": "https://localhost:8080/"
        }
      },
      "outputs": [
        {
          "output_type": "stream",
          "name": "stdout",
          "text": [
            "How\n",
            "are\n",
            "you?\n"
          ]
        }
      ],
      "source": [
        "print(\"How\")\n",
        "\n",
        "print(\"are\")\n",
        "print(\"you?\")"
      ]
    },
    {
      "cell_type": "markdown",
      "metadata": {
        "id": "EPejsZYNPbdt"
      },
      "source": [
        "> *Hint:* Consider how each `print()` creates a new line.\n",
        "\n",
        "\n",
        "\n",
        "# Section 2: We Must Skip a Line\n",
        "\n",
        "But what if I want a blank line? You might be wondering, \"How can we print a blank line in Python?\" It's easy! Just use the `print()` function without anything inside the parentheses.\n",
        "\n",
        "Check this out:\n",
        "\n",
        "```python\n",
        "print(\"How\")\n",
        "print()\n",
        "print(\"are\")\n",
        "print(\"you?\")\n",
        "```\n",
        "\n",
        "**Output:**\n",
        "```\n",
        "How\n",
        "\n",
        "are\n",
        "you?\n",
        "```\n",
        "\n",
        "Notice how we left the second line blank!\n",
        "\n",
        "Now, let's put this into practice. Rearrange the lines below to print:\n",
        "\n",
        "```\n",
        "Blank spaces matter\n",
        "for clarity\n",
        "\n",
        "and style!\n",
        "```\n",
        "\n",
        "> *Advanced Tip:* Think about the order in which the lines are printed and how blank lines affect the overall output.\n",
        "\n",
        "\n",
        "\n",
        "# Section 3: Multiple Lines with One Function\n",
        "\n",
        "Can we use just one `print()` function to print several lines? We've got two nifty tricks for you. Ready?\n",
        "\n",
        "### First Trick: Using `\\n` to Start a New Line\n",
        "\n",
        "How does it work? Check this out:\n",
        "\n",
        "```python\n",
        "print(\"This is the first line.\\nThis is the second line.\")\n",
        "```\n",
        "\n",
        "**Output:**\n",
        "```\n",
        "This is the first line.\n",
        "This is the second line.\n",
        "```\n",
        "\n",
        "Here, `\\n` inside the string tells Python to jump to a new line and continue printing. Easy and efficient, right?\n",
        "\n",
        "> *Tip:* Use this method when you want to embed newlines within a single string.\n",
        "\n",
        "\n",
        "\n",
        "# Section 4: Economical Printing – Using Triple Quotes\n",
        "\n",
        "Here's another cool trick Python has up its sleeve to print several lines at once: using three single (`'''`) or three double (`\"\"\"`) quotes.\n",
        "\n",
        "```python\n",
        "print('''My contact:\n",
        "Email: your_name@gmail.com\n",
        "Phone: +xx-1234-5678''')\n",
        "```\n",
        "\n",
        "**Output:**\n",
        "```\n",
        "My contact:\n",
        "Email: your_name@gmail.com\n",
        "Phone: +xx-1234-5678\n",
        "```\n",
        "\n",
        "*Advanced Note:* When using triple quotes, Python preserves the newlines exactly as you type them, which can be very handy for multi-line output.\n",
        "\n",
        "\n",
        "\n",
        "# Section 5: Debugging Multiline String Errors\n",
        "\n",
        "Let's tackle a challenge with a multi-line string. Notice the problematic code below:\n",
        "\n",
        "**Target Output:**\n",
        "\n",
        "```\n",
        "To-Do List:\n",
        "1. Complete Python exercise\n",
        "2. Review coding concepts\n",
        "3. Have a cuppa tea\n",
        "```\n",
        "\n",
        "**Problematic Code:**\n",
        "\n",
        "> *Hint:* Consider how to correctly represent a multi-line string in Python. You might use `\\n` or triple quotes.\n",
        "\n",
        "> *Extension:* Write two answers, one uses `\\n` and the other uses triple quotes."
      ]
    },
    {
      "cell_type": "code",
      "execution_count": 3,
      "metadata": {
        "vscode": {
          "languageId": "python"
        },
        "id": "RcPkDyHAPbdu",
        "outputId": "112add28-5def-4a44-a9a9-5bd59e68553f",
        "colab": {
          "base_uri": "https://localhost:8080/"
        }
      },
      "outputs": [
        {
          "output_type": "stream",
          "name": "stdout",
          "text": [
            "To-Do List:\n",
            "1. Complete Python exercise\n",
            "2. Review coding concepts\n",
            "3. Have a cuppa tea\n"
          ]
        }
      ],
      "source": [
        "print('''To-Do List:\n",
        "1. Complete Python exercise\n",
        "2. Review coding concepts\n",
        "3. Have a cuppa tea''')"
      ]
    },
    {
      "cell_type": "code",
      "source": [
        "print(\"To-Do List:\\n1. Complete Python exercise\\n2. Review coding concepts\\n3. Have a cuppa tea\")"
      ],
      "metadata": {
        "id": "0zVvfTQnCQl4",
        "outputId": "9cce631a-170c-46dd-af76-71f502e296d2",
        "colab": {
          "base_uri": "https://localhost:8080/"
        }
      },
      "execution_count": 4,
      "outputs": [
        {
          "output_type": "stream",
          "name": "stdout",
          "text": [
            "To-Do List:\n",
            "1. Complete Python exercise\n",
            "2. Review coding concepts\n",
            "3. Have a cuppa tea\n"
          ]
        }
      ]
    },
    {
      "cell_type": "markdown",
      "metadata": {
        "id": "UwppMAtUPbdu"
      },
      "source": [
        "# Section 6: Print a Python Poem\n",
        "\n",
        "Instead of an inspirational quote, why not create a short poem about Python? Ask AI to write a 3- or 4-line poem about Python, then print the poem using one of these techniques:\n",
        "\n",
        "- Using multiple `print()` functions  \n",
        "- Using `\\n` inside a single string  \n",
        "- Using triple quotes  \n",
        "\n",
        "Print the poem with the same formatting as shown below. For example, if AI gives you:\n",
        "\n",
        "```\n",
        "Python dances in lines of code,\n",
        "A rhythm where logic is bestowed.\n",
        "In every loop, a tale unfolds,\n",
        "A world of wonder in each node.\n",
        "```\n",
        "\n",
        "Your output should match the format exactly.\n",
        "\n",
        "> *Tip:* Choose the method you like best to print the poem.\n",
        "\n",
        "\n",
        "# Section 7: Print a Personal Profile\n",
        "\n",
        "Now, create a Python program to print a personal profile using a single `print()` function. Here's the target output:\n",
        "\n",
        "```\n",
        "Personal Profile:\n",
        "Name: Alice Smith\n",
        "Favourite Language: Python\n",
        "Hobby: Coding and bushwalking\n",
        "```\n",
        "\n",
        "> *Note:* You still have three options available (multiple print statements, `\\n`, or triple quotes), but try a different one from the previous challenge.\n",
        "\n",
        "> *Tip:* Ensure the text format is exactly as shown above, with proper line breaks.\n",
        "\n",
        "\n",
        "\n",
        "# Section 8: Comments\n",
        "\n",
        "Before we end the notebook, let’s talk about the line of code that the program *ignores* comments!\n",
        "\n",
        "Comments don’t affect the program but are crucial for readability. By explaining what each part of the code does, comments act like helpful notes, guiding developers through the logic.\n",
        "\n",
        "> **Quick Rule:** In Python, start a line with `#` and it's a comment.\n",
        "\n",
        "**Example:**\n",
        "\n",
        "```python\n",
        "# This line is a comment and won't be executed\n",
        "print(\"Do you have any comment?\")\n",
        "```\n",
        "\n",
        "**Output:**\n",
        "```\n",
        "Do you have any comment?\n",
        "```\n",
        "\n",
        "The line starting with `#` is ignored by the computer.\n",
        "\n",
        "> *Quick Question:* Which symbol does Python use to comment out a line?\n",
        "\n",
        "\n",
        "\n",
        "# Section 9: Writing Comments\n",
        "\n",
        "Anna has recently learnt about multi-line programming in Python and has written a simple script that incorporates all the lessons she learnt:\n",
        "\n",
        "```python\n",
        "print(\"Hello, World!\")\n",
        "print()\n",
        "print(\"This is the first line. \\nThis is the second line.\")\n",
        "print('''Three quotes can be used also\n",
        "to print multiple lines using a single print function''')\n",
        "```\n",
        "\n",
        "Now, she wants to add these three comments inside her code in the appropriate places:\n",
        "- `print()` function will leave an empty line  \n",
        "- `\\n` is used to signal Python to start a new line  \n",
        "- Three quotation marks can also print multiple lines  \n",
        "\n",
        "Please fill in the blanks below and assist Susan in writing well-commented scripts that she will find easier to understand later.\n",
        "\n",
        "> *Tip:* Think about where each comment would best explain the corresponding code functionality.\n",
        "\n",
        "```python\n",
        "print(\"Hello, World!\")\n",
        "\n",
        "print()\n",
        "\n",
        "print(\"This is the first line. \\nThis is the second line.\")\n",
        "\n",
        "print('''Three quotes can be used also\n",
        "to print multiple lines using a single print function''')\n",
        "```\n",
        "\n",
        "Happy coding, and remember—clear and readable code is the first step towards becoming a great programmer!"
      ]
    },
    {
      "cell_type": "code",
      "source": [
        "print(\"Hello, World!\")\n",
        "\n",
        "print()\n",
        "# print() function will leave an empty line\n",
        "print(\"This is the first line. \\nThis is the second line.\")\n",
        "# \\n is used to signal Python to start a new line\n",
        "print('''Three quotes can be used also\n",
        "to print multiple lines using a single print function''')\n",
        "# Three quotation marks can also print multiple lines"
      ],
      "metadata": {
        "id": "1V1J0MRsD0cW",
        "outputId": "b217450d-2a13-49ca-f645-9594c3d82038",
        "colab": {
          "base_uri": "https://localhost:8080/"
        }
      },
      "execution_count": 5,
      "outputs": [
        {
          "output_type": "stream",
          "name": "stdout",
          "text": [
            "Hello, World!\n",
            "\n",
            "This is the first line. \n",
            "This is the second line.\n",
            "Three quotes can be used also\n",
            "to print multiple lines using a single print function\n"
          ]
        }
      ]
    }
  ],
  "metadata": {
    "kernelspec": {
      "display_name": "Python 3 (ipykernel)",
      "language": "python",
      "name": "python3"
    },
    "colab": {
      "provenance": [],
      "include_colab_link": true
    }
  },
  "nbformat": 4,
  "nbformat_minor": 0
}