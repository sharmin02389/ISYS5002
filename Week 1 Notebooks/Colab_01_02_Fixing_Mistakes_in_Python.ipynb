{
  "cells": [
    {
      "cell_type": "markdown",
      "metadata": {
        "id": "view-in-github",
        "colab_type": "text"
      },
      "source": [
        "<a href=\"https://colab.research.google.com/github/sharmin02389/ISYS5002/blob/main/Week%201%20Notebooks/Colab_01_02_Fixing_Mistakes_in_Python.ipynb\" target=\"_parent\"><img src=\"https://colab.research.google.com/assets/colab-badge.svg\" alt=\"Open In Colab\"/></a>"
      ]
    },
    {
      "cell_type": "markdown",
      "metadata": {
        "id": "SK88OtQFOFFV"
      },
      "source": [
        "Welcome to this notebook! 🎉\n",
        "\n",
        "Making mistakes is a natural part of learning to code. In fact, every programmer—no matter how experienced—runs into errors. The good news? Python is great at telling us when something is wrong. Our job is simply to **read the message carefully and make small corrections** to get the code working.  \n",
        "\n",
        "In this notebook, you'll practice **fixing common beginner mistakes** like:\n",
        "\n",
        "- ✅ Using the correct spelling for Python commands\n",
        "- ✅ Making sure parentheses and quotation marks are complete\n",
        "- ✅ Using the right spacing (indentation)\n",
        "- ✅ Paying attention to uppercase and lowercase letters\n",
        "\n",
        "Each section contains a small mistake in the code. Your task is to **spot the error and fix it** so the program runs correctly!\n",
        "\n",
        "> 💡 **Advanced Note:** This process of finding and fixing mistakes is called **debugging**. Later in the semester, we’ll explore more advanced techniques to help us do this even faster!\n",
        "\n",
        "Let's get started! 🚀\n",
        "\n",
        "\n",
        "## Section 6: Fixing Indentation Errors\n",
        "\n",
        "> Python is **indentation-sensitive**. The following code has an indentation error. Run the code first so you can see the error message, then fix it!"
      ]
    },
    {
      "cell_type": "code",
      "execution_count": 1,
      "metadata": {
        "vscode": {
          "languageId": "python"
        },
        "id": "OunfPQvHOFFW",
        "outputId": "5ec741d3-cc6b-4ae5-dfd6-792af0db49b4",
        "colab": {
          "base_uri": "https://localhost:8080/",
          "height": 108
        }
      },
      "outputs": [
        {
          "output_type": "error",
          "ename": "IndentationError",
          "evalue": "unexpected indent (<ipython-input-1-b4ab8478b5b0>, line 2)",
          "traceback": [
            "\u001b[0;36m  File \u001b[0;32m\"<ipython-input-1-b4ab8478b5b0>\"\u001b[0;36m, line \u001b[0;32m2\u001b[0m\n\u001b[0;31m    print(\"Python!\")\u001b[0m\n\u001b[0m    ^\u001b[0m\n\u001b[0;31mIndentationError\u001b[0m\u001b[0;31m:\u001b[0m unexpected indent\n"
          ]
        }
      ],
      "source": [
        "print(\"Hello\")\n",
        "     print(\"Python!\")"
      ]
    },
    {
      "cell_type": "markdown",
      "metadata": {
        "id": "ovFEoBVcOFFX"
      },
      "source": [
        "> 💡 Try to read the error message carefully. Often, you won't understand the full message but only parts of it—use those clues to find the problem.\n",
        "> 💡 **AI Tip:** If you're confused about indentation errors, paste your error into AI and ask for an explanation.\n",
        "> 💡 **Advanced Note:** The error message in Python is called a *traceback* and identifies the *exception* that occurred. We will learn more about error messages during the semester.\n",
        "\n",
        "\n",
        "# Section 5: Case Sensitivity Matters!\n",
        "\n",
        "Python treats `print`, `Print`, and `PRINT` as different things! RRun the code first so you can see the error message, then fix the incorrect function call!"
      ]
    },
    {
      "cell_type": "code",
      "execution_count": 2,
      "metadata": {
        "vscode": {
          "languageId": "python"
        },
        "id": "ceCZd5ShOFFX",
        "outputId": "ba1670fa-cfe9-40c5-cec7-978614fd3f22",
        "colab": {
          "base_uri": "https://localhost:8080/",
          "height": 144
        }
      },
      "outputs": [
        {
          "output_type": "error",
          "ename": "NameError",
          "evalue": "name 'PRINT' is not defined",
          "traceback": [
            "\u001b[0;31m---------------------------------------------------------------------------\u001b[0m",
            "\u001b[0;31mNameError\u001b[0m                                 Traceback (most recent call last)",
            "\u001b[0;32m<ipython-input-2-5dc3750971b2>\u001b[0m in \u001b[0;36m<cell line: 0>\u001b[0;34m()\u001b[0m\n\u001b[0;32m----> 1\u001b[0;31m \u001b[0mPRINT\u001b[0m\u001b[0;34m(\u001b[0m\u001b[0;34m\"All caps\"\u001b[0m\u001b[0;34m)\u001b[0m\u001b[0;34m\u001b[0m\u001b[0;34m\u001b[0m\u001b[0m\n\u001b[0m",
            "\u001b[0;31mNameError\u001b[0m: name 'PRINT' is not defined"
          ]
        }
      ],
      "source": [
        "PRINT(\"All caps\")"
      ]
    },
    {
      "cell_type": "markdown",
      "metadata": {
        "id": "Ezg5SrHROFFX"
      },
      "source": [
        "# Section 7: Common Typos\n",
        "\n",
        "Watch out for typos! Run the code first so you can see the error message, then fix it!"
      ]
    },
    {
      "cell_type": "code",
      "execution_count": 3,
      "metadata": {
        "vscode": {
          "languageId": "python"
        },
        "id": "KldK0H5HOFFY",
        "outputId": "81020c51-0b8c-4a94-f2e2-5cf6cf5f0446",
        "colab": {
          "base_uri": "https://localhost:8080/",
          "height": 144
        }
      },
      "outputs": [
        {
          "output_type": "error",
          "ename": "NameError",
          "evalue": "name 'pint' is not defined",
          "traceback": [
            "\u001b[0;31m---------------------------------------------------------------------------\u001b[0m",
            "\u001b[0;31mNameError\u001b[0m                                 Traceback (most recent call last)",
            "\u001b[0;32m<ipython-input-3-4bbc72e27ef4>\u001b[0m in \u001b[0;36m<cell line: 0>\u001b[0;34m()\u001b[0m\n\u001b[0;32m----> 1\u001b[0;31m \u001b[0mpint\u001b[0m\u001b[0;34m(\u001b[0m\u001b[0;34m\"Hello, World!\"\u001b[0m\u001b[0;34m)\u001b[0m\u001b[0;34m\u001b[0m\u001b[0;34m\u001b[0m\u001b[0m\n\u001b[0m",
            "\u001b[0;31mNameError\u001b[0m: name 'pint' is not defined"
          ]
        }
      ],
      "source": [
        "pint(\"Hello, World!\")"
      ]
    },
    {
      "cell_type": "markdown",
      "metadata": {
        "id": "6aruEOqmOFFY"
      },
      "source": [
        "> 💡 **AI Tip:** If you struggle with fixing typos, ask AI: *What’s wrong with this Python function call?*\n",
        "\n",
        "# Section 8: Closing Strings Properly\n",
        "\n",
        "Make sure all strings have both opening and closing quotation marks! Run the code first so you can see the error message, then fix it!\n",
        "\n",
        "\n",
        "## Task: Fix the missing quote"
      ]
    },
    {
      "cell_type": "code",
      "execution_count": 4,
      "metadata": {
        "vscode": {
          "languageId": "python"
        },
        "id": "maEfvkH0OFFY",
        "outputId": "52b79f13-d6d1-4bfe-a8cf-3420b8f6e324",
        "colab": {
          "base_uri": "https://localhost:8080/",
          "height": 108
        }
      },
      "outputs": [
        {
          "output_type": "error",
          "ename": "SyntaxError",
          "evalue": "unterminated string literal (detected at line 1) (<ipython-input-4-1d86070c7acf>, line 1)",
          "traceback": [
            "\u001b[0;36m  File \u001b[0;32m\"<ipython-input-4-1d86070c7acf>\"\u001b[0;36m, line \u001b[0;32m1\u001b[0m\n\u001b[0;31m    print(\"Python)\u001b[0m\n\u001b[0m          ^\u001b[0m\n\u001b[0;31mSyntaxError\u001b[0m\u001b[0;31m:\u001b[0m unterminated string literal (detected at line 1)\n"
          ]
        }
      ],
      "source": [
        "print(\"Python)"
      ]
    },
    {
      "cell_type": "markdown",
      "metadata": {
        "id": "PouFfRZUOFFY"
      },
      "source": [
        "# Section 9: Matching Parentheses\n",
        "\n",
        "Every opening parenthesis `(` must have a closing parenthesis `)`. Fix the error below."
      ]
    },
    {
      "cell_type": "code",
      "execution_count": 5,
      "metadata": {
        "vscode": {
          "languageId": "python"
        },
        "id": "5Xs4R7qBOFFY",
        "outputId": "0fa7acda-de79-4f7e-9e75-730735fc5a08",
        "colab": {
          "base_uri": "https://localhost:8080/",
          "height": 108
        }
      },
      "outputs": [
        {
          "output_type": "error",
          "ename": "SyntaxError",
          "evalue": "incomplete input (<ipython-input-5-4f1b725aef94>, line 1)",
          "traceback": [
            "\u001b[0;36m  File \u001b[0;32m\"<ipython-input-5-4f1b725aef94>\"\u001b[0;36m, line \u001b[0;32m1\u001b[0m\n\u001b[0;31m    print(\"I have no end\"\u001b[0m\n\u001b[0m                         ^\u001b[0m\n\u001b[0;31mSyntaxError\u001b[0m\u001b[0;31m:\u001b[0m incomplete input\n"
          ]
        }
      ],
      "source": [
        "print(\"I have no end\""
      ]
    },
    {
      "cell_type": "markdown",
      "metadata": {
        "id": "zkaJ5TWFOFFY"
      },
      "source": [
        "> 💡 **AI Tip:** If you don’t understand an AI explanation, ask it to **simplify further**!\n",
        "\n",
        "# Section 9: Debugging a Beginner's Code\n",
        "\n",
        "Bob wrote his first Python script, but it has some errors. Can you fix them?"
      ]
    },
    {
      "cell_type": "code",
      "execution_count": 9,
      "metadata": {
        "vscode": {
          "languageId": "python"
        },
        "id": "VddWXBpIOFFY"
      },
      "outputs": [],
      "source": [
        "# print(\"Good morning!\")\n",
        "# print(\"Python is amazing!\")\n",
        "# print(\"Let's learn Python together!\")\n",
        "# print(\"Coding is exciting\")\n",
        "# print(\"I have no idea what's going on!\")"
      ]
    },
    {
      "cell_type": "markdown",
      "metadata": {
        "id": "WPMHViKCOFFY"
      },
      "source": [
        "> 💡 **AI Tip:** If you're unsure about fixing errors, ask AI: *What’s wrong with this code?* Then compare AI's explanation with your understanding."
      ]
    }
  ],
  "metadata": {
    "kernelspec": {
      "display_name": "Python 3 (ipykernel)",
      "language": "python",
      "name": "python3"
    },
    "colab": {
      "provenance": [],
      "include_colab_link": true
    }
  },
  "nbformat": 4,
  "nbformat_minor": 0
}