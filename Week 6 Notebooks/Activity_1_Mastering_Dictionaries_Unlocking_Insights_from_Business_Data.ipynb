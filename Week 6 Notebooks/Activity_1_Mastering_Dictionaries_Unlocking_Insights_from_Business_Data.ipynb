{
  "cells": [
    {
      "cell_type": "markdown",
      "metadata": {
        "id": "view-in-github",
        "colab_type": "text"
      },
      "source": [
        "<a href=\"https://colab.research.google.com/github/sharmin02389/ISYS5002/blob/main/Week%206%20Notebooks/Activity_1_Mastering_Dictionaries_Unlocking_Insights_from_Business_Data.ipynb\" target=\"_parent\"><img src=\"https://colab.research.google.com/assets/colab-badge.svg\" alt=\"Open In Colab\"/></a>"
      ]
    },
    {
      "cell_type": "markdown",
      "metadata": {
        "id": "B5F9qe_yEaaP"
      },
      "source": [
        "## Learning Objectives\n",
        "\n",
        "By the end of this activity, you will be able to:\n",
        "\n",
        "- **Analyse** the suitability of dictionaries for representing and manipulating business data in various scenarios.\n",
        "- **Evaluate** the effectiveness of different dictionary operations and methods for extracting insights from complex data structures.\n",
        "- **Justify** the choices you make when using dictionaries to solve business data analysis problems.\n",
        "\n",
        "## Introduction\n",
        "\n",
        "Dictionaries are powerful data structures that allow you to store and manipulate data in a flexible, efficient, and meaningful way. In the context of business data analysis, dictionaries can be invaluable for organizing, processing, and deriving insights from complex datasets. By mastering the use of dictionaries, you'll develop essential skills for tackling real-world business problems and making data-driven decisions.\n",
        "\n",
        "## Using AI Tools Ethically & Effectively\n",
        "\n",
        "AI tools can be incredibly helpful for tasks like brainstorming, generating explanations, and verifying your work. However, it's crucial to use them responsibly and critically. When using AI in this worksheet:\n",
        "\n",
        "- **Be transparent:** Clearly indicate when you're using AI to assist with a task, and reflect on how it influenced your process and learning.\n",
        "- **Critically evaluate:** Don't blindly accept AI-generated outputs. Carefully examine the relevance, accuracy, and completeness of the information it provides.\n",
        "- **Use AI as a learning partner:** Leverage AI to deepen your understanding, but don't rely on it to do the thinking for you. Use prompts that encourage critical analysis and justification of your choices.\n",
        "\n",
        "For example, you could ask an AI tool: \"What are the potential limitations of using dictionaries to represent and analyse complex business data structures? How would I need to critically evaluate the AI's response before applying it?\"\n",
        "\n",
        "## Key Concepts\n",
        "\n",
        "- **Dictionaries:** A data structure that stores key-value pairs, allowing for efficient data retrieval and manipulation.\n",
        "- **Dictionary Operations:** Common operations like adding, modifying, and accessing elements in a dictionary.\n",
        "- **Dictionary Methods:** Useful built-in methods for working with dictionaries, such as `get()`, `keys()`, `values()`, and `items()`.\n",
        "- **Data Representation:** Choosing appropriate data structures (like dictionaries) to effectively model and represent business data.\n",
        "- **Data Analysis:** Techniques for extracting insights, identifying patterns, and drawing conclusions from business data stored in dictionaries.\n",
        "\n",
        "## Activity 1: Conceptual Application & Analysis\n",
        "\n",
        "You've been tasked with analysing sales data for a small retail business. The data is stored in a dictionary, where the keys represent product IDs and the values are dictionaries containing information about each product, such as its name, price, and quantity sold."
      ]
    },
    {
      "cell_type": "code",
      "metadata": {
        "id": "NhBFEYVFEaaQ"
      },
      "source": [
        "sales_data = {\n",
        "    \"P001\": {\"name\": \"Widget A\", \"price\": 9.99, \"qty_sold\": 120},\n",
        "    \"P002\": {\"name\": \"Widget B\", \"price\": 14.50, \"qty_sold\": 85},\n",
        "    \"P003\": {\"name\": \"Widget C\", \"price\": 7.25, \"qty_sold\": 200},\n",
        "    \"P004\": {\"name\": \"Widget D\", \"price\": 12.75, \"qty_sold\": 75}\n",
        "}"
      ],
      "execution_count": 1,
      "outputs": []
    },
    {
      "cell_type": "code",
      "source": [
        "list(sales_data.items())[0][1]['name']"
      ],
      "metadata": {
        "id": "2Hz14pDcgsLT",
        "outputId": "24ee42d4-cfa6-44ce-8433-904cb29287b1",
        "colab": {
          "base_uri": "https://localhost:8080/",
          "height": 35
        }
      },
      "execution_count": 3,
      "outputs": [
        {
          "output_type": "execute_result",
          "data": {
            "text/plain": [
              "'Widget A'"
            ],
            "application/vnd.google.colaboratory.intrinsic+json": {
              "type": "string"
            }
          },
          "metadata": {},
          "execution_count": 3
        }
      ]
    },
    {
      "cell_type": "markdown",
      "source": [
        "1. Explain how you would use dictionary operations and methods to calculate the total revenue generated from the sales data. Describe the step-by-step process, including any potential challenges or considerations.\n",
        "\n",
        "💡 AI Tip: Ask an AI to suggest alternative approaches to calculating the total revenue using dictionaries. Compare the AI's suggestions to your own process and identify any additional factors you should consider.\n",
        "\n",
        "2. The business owner wants to identify the best-selling product. Describe how you would use dictionary operations and methods to determine the product with the highest quantity sold, and explain your reasoning.\n"
      ],
      "metadata": {
        "id": "cMWcBitvExJ7"
      }
    },
    {
      "cell_type": "code",
      "source": [],
      "metadata": {
        "id": "BQjotLk2EyY2"
      },
      "execution_count": null,
      "outputs": []
    },
    {
      "cell_type": "markdown",
      "metadata": {
        "id": "eN2KouRMEaaR"
      },
      "source": [
        "\n",
        "## Activity 2: Evaluation, Comparison, and Justification\n",
        "\n",
        "The business owner now wants to expand their product line and is considering adding a new product. They've provided you with the following information about two potential new products:\n",
        "\n",
        "Product A:\n",
        "- Price: $19.99\n",
        "- Estimated monthly sales: 50 units\n",
        "\n",
        "Product B:\n",
        "- Price: $14.75\n",
        "- Estimated monthly sales: 80 units\n",
        "\n",
        "Using the sales data dictionary from the previous activity, evaluate which of the two new products would be a better addition to the business. Justify your recommendation by comparing the potential revenue and profitability of each new product.\n",
        "\n",
        "💡 AI Tip: Ask an AI to identify potential factors you should consider when evaluating the suitability of the new products, beyond just revenue and profitability. Critically assess the AI's suggestions and incorporate them into your justification.\n",
        "\n"
      ]
    },
    {
      "cell_type": "code",
      "source": [],
      "metadata": {
        "id": "Bd8x_oBTEikd"
      },
      "execution_count": null,
      "outputs": []
    },
    {
      "cell_type": "markdown",
      "source": [
        "## Extension: Combining Concepts\n",
        "\n",
        "The business owner is now interested in understanding the overall sales performance of their product line. They've asked you to create a summary report that provides the following insights:\n",
        "\n",
        "1. The total revenue generated from all products.\n",
        "2. The product with the highest total revenue.\n",
        "3. The average price of all products.\n",
        "\n",
        "Using the sales data dictionary, write code to calculate these metrics and provide a brief explanation of your approach, including any relevant dictionary operations or methods you used.\n",
        "\n",
        "💡 AI Tip: If you used AI to help generate the code or explanations for this task, describe how you verified the accuracy of the AI's output and adapted it to fit the specific requirements of the report.\n",
        "\n"
      ],
      "metadata": {
        "id": "YjoJM9r0EjWl"
      }
    },
    {
      "cell_type": "code",
      "source": [],
      "metadata": {
        "id": "DfTIsAvnEmQA"
      },
      "execution_count": null,
      "outputs": []
    },
    {
      "cell_type": "markdown",
      "source": [
        "## Reflection\n",
        "\n",
        "1. How might the analytical and evaluative skills you practiced with dictionaries apply elsewhere in your studies or future work?\n",
        "\n",
        "2. Describe how you used (or decided not to use) AI tools for the analysis, evaluation, or justification tasks in this worksheet. How did it influence your process and learning?\n",
        "\n",
        "3. Reflect on the process of critically evaluating information or justifying your choices during this activity. What was challenging or insightful?"
      ],
      "metadata": {
        "id": "bhrDgc6FEn6Q"
      }
    }
  ],
  "metadata": {
    "kernelspec": {
      "name": "python3",
      "language": "python",
      "display_name": "Python 3 (ipykernel)"
    },
    "colab": {
      "provenance": [],
      "include_colab_link": true
    }
  },
  "nbformat": 4,
  "nbformat_minor": 0
}