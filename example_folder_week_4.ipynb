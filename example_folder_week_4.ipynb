{
  "nbformat": 4,
  "nbformat_minor": 0,
  "metadata": {
    "colab": {
      "provenance": [],
      "authorship_tag": "ABX9TyPmbn/AYQLu9Y6xn6NVrIuK",
      "include_colab_link": true
    },
    "kernelspec": {
      "name": "python3",
      "display_name": "Python 3"
    },
    "language_info": {
      "name": "python"
    }
  },
  "cells": [
    {
      "cell_type": "markdown",
      "metadata": {
        "id": "view-in-github",
        "colab_type": "text"
      },
      "source": [
        "<a href=\"https://colab.research.google.com/github/sharmin02389/ISYS5002/blob/main/example_folder_week_4.ipynb\" target=\"_parent\"><img src=\"https://colab.research.google.com/assets/colab-badge.svg\" alt=\"Open In Colab\"/></a>"
      ]
    },
    {
      "cell_type": "code",
      "execution_count": null,
      "metadata": {
        "id": "y8ZQfoTAU0Cx"
      },
      "outputs": [],
      "source": [
        "temperature = 22\n",
        "if temperature < 20:\n",
        "    print(\"It's chilly!\")\n",
        "    print(\" I hope ypu have a jumper\")\n"
      ]
    },
    {
      "cell_type": "markdown",
      "source": [],
      "metadata": {
        "id": "Egsn4BcEWU7c"
      }
    },
    {
      "cell_type": "code",
      "execution_count": null,
      "metadata": {
        "colab": {
          "base_uri": "https://localhost:8080/",
          "height": 106
        },
        "id": "W5ifdSYKXTJ9",
        "outputId": "0b3a56bc-3471-4e84-b8af-2669ad23ade1"
      },
      "outputs": [
        {
          "output_type": "error",
          "ename": "SyntaxError",
          "evalue": "invalid syntax (<ipython-input-27-cb6a4b5e05b3>, line 15)",
          "traceback": [
            "\u001b[0;36m  File \u001b[0;32m\"<ipython-input-27-cb6a4b5e05b3>\"\u001b[0;36m, line \u001b[0;32m15\u001b[0m\n\u001b[0;31m    if is it raining == True:\u001b[0m\n\u001b[0m       ^\u001b[0m\n\u001b[0;31mSyntaxError\u001b[0m\u001b[0;31m:\u001b[0m invalid syntax\n"
          ]
        }
      ],
      "source": [
        "temperature = input(\"What is the temnperature today?\")\n",
        "temperature= float(temperature)\n",
        "temperature = input(\"What is the temnperature today?\")\n",
        "temperature= float(temperature)\n",
        "is_it_raining = input(\"is it raining?\")\n",
        "is_it_raining = is_it_raining.lower()\n",
        "is_it_raining == (\"yes\")\n",
        "if temperature <= 20:\n",
        "    print(\"it is chilly\")\n",
        "if is_it_raining == \"yes\":\n",
        "    print(\"take an umbrella!\")\n",
        "    print(\" I hope ypu have a jumper!\")\n",
        "temperature = input(\"What is the temnperature today?\")\n",
        "temperature= float(temperature)\n",
        "temperature = input(\"What is the temnperature today?\")\n",
        "temperature= float(temperature)\n",
        "is_it_raining = input(\"is it raining?\")\n",
        "is_it_raining = is_it_raining.lower()\n",
        "is_it_raining == (\"yes\")\n",
        "if temperature <= 20:\n",
        "    print(\"it is chilly\")\n",
        "if is_it_raining == \"yes\":\n",
        "    print(\"take an umbrella!\")\n",
        "    print(\" I hope ypu have a jumper!\")\n",
        "else:\n",
        "    print(\"Its warm!\")\n",
        "if is_it_raining == \"yes\":\n",
        "    print(\"take an umbrella!\")\n",
        "    print(\" I hope ypu have a jumper!\")\n",
        "else:\n",
        "    print(\"Its warm!\")\n",
        "else:\n",
        "    print(\"Its warm!\")"
      ]
    }
  ]
}